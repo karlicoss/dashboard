{
 "cells": [
  {
   "cell_type": "code",
   "execution_count": null,
   "metadata": {},
   "outputs": [],
   "source": [
    "from IPython.core.display import display, HTML\n",
    "display(HTML(\"<style>.container { width:100% !important; }</style>\"))\n",
    "display(HTML(\"<style>div.output_scroll { height: auto; }</style>\"))"
   ]
  },
  {
   "cell_type": "code",
   "execution_count": null,
   "metadata": {},
   "outputs": [],
   "source": [
    "import my.emfit as emfit"
   ]
  },
  {
   "cell_type": "code",
   "execution_count": null,
   "metadata": {},
   "outputs": [],
   "source": [
    "emfit_df = emfit.dataframe()"
   ]
  },
  {
   "cell_type": "code",
   "execution_count": null,
   "metadata": {},
   "outputs": [],
   "source": [
    "df = emfit_df"
   ]
  },
  {
   "cell_type": "code",
   "execution_count": null,
   "metadata": {},
   "outputs": [],
   "source": [
    "from bokeh.plotting import figure, show\n",
    "from bokeh.io import output_notebook\n",
    "output_notebook()"
   ]
  },
  {
   "cell_type": "code",
   "execution_count": null,
   "metadata": {},
   "outputs": [],
   "source": [
    "from bokeh.models import ColumnDataSource\n",
    "\n",
    "\n",
    "# df = df[df['error'].isnull()]\n",
    "# df = df.set_index('date')\n",
    "\n",
    "# print(df[:10])\n",
    "\n",
    "# raise RuntimeError\n",
    "# todo make index??\n",
    "# mean = cs.rolling(f'{d}D').mean()\n",
    "\n",
    "# TODO ugh. figure out how pandas determines the index type..\n",
    "# import pandas as pd\n",
    "# df.index = pd.to_datetime(df.index, utc=True)\n",
    "\n",
    "\n",
    "# see https://docs.bokeh.org/en/latest/docs/user_guide/tools.html#basic-tooltips\n",
    "# TODO date is displayed as unix time\n",
    "from bokeh.models import HoverTool\n",
    "hover = HoverTool(\n",
    "    tooltips=[\n",
    "        ( 'date',   '@date{%F}'            ),\n",
    "    ],\n",
    "\n",
    "    formatters={\n",
    "        '@date'        : 'datetime', # use 'datetime' formatter for '@date' field\n",
    "    },\n",
    "\n",
    "    # display a tooltip whenever the cursor is vertically in line with a glyph\n",
    "    mode='vline'\n",
    ")\n",
    "\n",
    "# TODO reuse functions for adding moving averages? Perhaps they should operate on dataframes to be framework independent?\n",
    "p = figure(x_axis_type='datetime', plot_width=2000)\n",
    "p.add_tools(hover)\n",
    "\n",
    "\n",
    "# TODO https://github.com/bokeh/bokeh/blob/master/examples/app/sliders.py\n",
    "\n",
    "# TODO if there are Nans, it fails to plot anything??\n",
    "\n",
    "m7d  = df[['avg_hr']].rolling('7D' ).mean()\n",
    "m30d = df[['avg_hr']].rolling('30D').mean()\n",
    "\n",
    "p.scatter(x='date', y='avg_hr', source=ColumnDataSource(data=df  ), color='blue' , legend_label='HR'              )\n",
    "p.line   (x='date', y='avg_hr', source=ColumnDataSource(data=m7d ), color='red'  , legend_label='HR (7  days avg)')\n",
    "p.line   (x='date', y='avg_hr', source=ColumnDataSource(data=m30d), color='green', legend_label='HR (30 days avg)')\n",
    "\n",
    "\n",
    "p.legend.click_policy = 'hide'\n",
    "\n",
    "\n",
    "show(p)"
   ]
  },
  {
   "cell_type": "code",
   "execution_count": null,
   "metadata": {},
   "outputs": [],
   "source": [
    "import my.bluemaestro as bluemaestro\n",
    "orig_df = bluemaestro.dataframe()"
   ]
  },
  {
   "cell_type": "code",
   "execution_count": null,
   "metadata": {},
   "outputs": [],
   "source": [
    "import datetime\n",
    "from bokeh.models import ColumnDataSource as CDS\n",
    "\n",
    "df = orig_df\n",
    "df = df.sort_index() # FIXME should be fixed in hpi? but also make it defensive\n",
    "df = df[-40000:]\n",
    "\n",
    "# TODO 'index must be monotonic??'\n",
    "\n",
    "print(df[-5:])\n",
    "m1d  = df[['temp']].rolling('1D' ).mean()\n",
    "\n",
    "p = figure(x_axis_type='datetime', plot_width=2000)\n",
    "p.scatter(x='dt', y='temp', source=CDS(data=df ), color='blue', legend_label='Temperature'         )\n",
    "p.line   (x='dt', y='temp', source=CDS(data=m1d), color='red' , legend_label='Temperature (1d avg)')\n",
    "# TODO plot frequency of data?? could be even automatic (akin to hpi doctor/stat)\n",
    "\n",
    "show(p)\n",
    "# TODO highlight different days?\n",
    "\n",
    "# TODO hpi: I feel like points duplicate each other without being filtered...\n",
    "# and probably across different export files?? a bit crap\n",
    "\n",
    "day_count = df.groupby(df.index.date).count()\n",
    "print(day_count[:10])\n",
    "\n",
    "p = figure(x_axis_type='datetime', plot_width=2000)\n",
    "p.vbar(x='index', top='temp', source=CDS(day_count), width=datetime.timedelta(days=1) * 0.95)\n",
    "show(p)\n"
   ]
  },
  {
   "cell_type": "code",
   "execution_count": null,
   "metadata": {},
   "outputs": [],
   "source": [
    "# TODO for temp, maybe heatplot would make more sense? E.g. x axis days y axis time of day. although discontinuity at 0:00 is gonna be annoying.\n",
    "# could group by weeks?"
   ]
  },
  {
   "cell_type": "code",
   "execution_count": null,
   "metadata": {},
   "outputs": [],
   "source": [
    "# TODO hmm, maybe update regression lines dynamically? Wonder if there is as callback in bokeh\n",
    "# https://stackoverflow.com/q/53287715/706389 here some sample code\n",
    "import holoviews as hv\n",
    "from holoviews import opts\n",
    "hv.extension('bokeh')"
   ]
  },
  {
   "cell_type": "code",
   "execution_count": null,
   "metadata": {},
   "outputs": [],
   "source": [
    "import pandas as pd\n",
    "import hvplot.pandas  # noqa\n",
    "\n",
    "# from bokeh.sampledata import iris, stocks \n",
    "\n",
    "# iris = iris.flowers\n",
    "\n",
    "df = emfit_df[['coverage', 'avg_hr', 'hrv_change', 'bed_time', 'recovery']]\n",
    "print(df)\n",
    "\n",
    "hvplot.scatter_matrix(df, width=2000, height=2000)\n",
    "# TODO fuck. this doesn't work.., hover=True)\n",
    "\n"
   ]
  },
  {
   "cell_type": "code",
   "execution_count": null,
   "metadata": {},
   "outputs": [],
   "source": [
    "# some examples of server with interactive stuff? \n",
    "# https://github.com/bokeh/bokeh/blob/master/examples/app/stocks/main.py\n",
    "\n",
    "# regression? https://docs.bokeh.org/en/latest/docs/gallery/anscombe.html\n",
    "# odd, wonder how it's guessing the regresison line...\n",
    "\n",
    "# these for sleep intervals? https://docs.bokeh.org/en/latest/docs/gallery/stacked_area.html\n",
    "# also I had some old jawbone plots I think...\n",
    "# also existing emfit plots\n",
    "\n",
    "\n",
    "# food plots (breakdown) https://docs.bokeh.org/en/latest/docs/gallery/bar_stacked.html\n",
    "\n",
    "\n",
    "# TODO errors should be aggregated and displayed as a separate column? with ability to toggle\n",
    "\n",
    "\n",
    "# TODO ok, plotly has some callbacks for lasso/rectangle selection https://plotly.com/python/v3/selection-events/\n",
    "# with these, I could dynamically update the regression lines, I guess"
   ]
  }
 ],
 "metadata": {
  "kernelspec": {
   "display_name": "Python 3",
   "language": "python",
   "name": "python3"
  },
  "language_info": {
   "codemirror_mode": {
    "name": "ipython",
    "version": 3
   },
   "file_extension": ".py",
   "mimetype": "text/x-python",
   "name": "python",
   "nbconvert_exporter": "python",
   "pygments_lexer": "ipython3",
   "version": "3.8.2"
  }
 },
 "nbformat": 4,
 "nbformat_minor": 4
}
