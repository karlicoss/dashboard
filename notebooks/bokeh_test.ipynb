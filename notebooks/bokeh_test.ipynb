{
 "cells": [
  {
   "cell_type": "code",
   "execution_count": null,
   "metadata": {},
   "outputs": [],
   "source": [
    "from IPython.core.display import display, HTML\n",
    "display(HTML(\"<style>.container { width:100% !important; }</style>\"))\n",
    "display(HTML(\"<style>div.output_scroll { height: auto; }</style>\"))\n",
    "# TODO need to ctrl-shift-I after that?? wtf?"
   ]
  },
  {
   "cell_type": "code",
   "execution_count": null,
   "metadata": {},
   "outputs": [],
   "source": [
    "import os\n",
    "from pathlib import Path\n",
    "pp = str(Path(os.getcwd()).absolute().parent / 'src')\n",
    "import sys\n",
    "sys.path.insert(0, pp)"
   ]
  },
  {
   "cell_type": "code",
   "execution_count": null,
   "metadata": {},
   "outputs": [],
   "source": [
    "from bokeh.plotting import figure, show\n",
    "from bokeh.io import output_notebook\n",
    "output_notebook()\n",
    "from bokeh.models import LinearAxis, Range1d\n",
    "from bokeh.models import HoverTool\n",
    "from bokeh.models import ColumnDataSource as CDS\n",
    "import pandas as pd\n",
    "from importlib import reload\n",
    "from dashboard.core.bokeh import rolling\n",
    "import matplotlib.pyplot as plt"
   ]
  },
  {
   "cell_type": "code",
   "execution_count": null,
   "metadata": {},
   "outputs": [],
   "source": [
    "%autoreload 2\n",
    "# TODO hmm, maybe this 2 is useful to reload submodules? check later\n",
    "# yeah, without it seems to throw some crappy errors?"
   ]
  },
  {
   "cell_type": "code",
   "execution_count": null,
   "metadata": {},
   "outputs": [],
   "source": [
    "from dashboard.sleep import _plot_all_sleep as P\n",
    "from dashboard.data import sleep_dataframe as DF"
   ]
  },
  {
   "cell_type": "code",
   "execution_count": null,
   "metadata": {},
   "outputs": [],
   "source": [
    "odf = DF()"
   ]
  },
  {
   "cell_type": "code",
   "execution_count": null,
   "metadata": {},
   "outputs": [],
   "source": [
    "from dashboard.core.pandas import lag_df, unlocalize\n",
    "df = odf[odf['error'].isna()]\n",
    "df = df.set_index('date').sort_index()\n",
    "# df = df.iloc[441:]\n",
    "\n",
    "df.index = pd.to_datetime(df.index)\n",
    "# print(df)\n",
    "df = df.resample('D').mean()\n",
    "# print(df)\n",
    "\n",
    "col = 'avg_hr'\n",
    "# col = 'hrv_morning'\n",
    "# col = 'hrv_evening'\n",
    "# col = 'avg_temp'\n",
    "hr = df[col].dropna()\n",
    "\n",
    "\n",
    "# plt.figure(figsize=(30,10))\n",
    "# autocorrelation_plot(hr)\n",
    "# plt.show()\n",
    "\n",
    "res = pd.DataFrame()\n",
    "for fr in range(750):\n",
    "    # TODO ugh. not sure what's the terminology should be? ahead or behind??\n",
    "    sh = hr.shift(-fr, freq='D')\n",
    "    sh.name = sh.name + f'+{fr}'\n",
    "    xxx = pd.DataFrame(index=hr.index)\n",
    "    xxx[hr.name] = hr\n",
    "    xxx = xxx.merge(sh, how='outer', left_index=True, right_index=True)\n",
    "    # todo timedelta?\n",
    "    color = 'red' if len(xxx.dropna()) < 100 else 'blue'\n",
    "    res.loc[fr, hr.name] = xxx.corr().iloc[0, 1]\n",
    "    res.loc[fr, 'color'] = color\n",
    "# print(res)\n",
    "# print(hr.autocorr(1)) # TODO what units is lag?\n",
    "# res.plot()\n",
    "# TODO wow. crazy seasonality! (weeks??)"
   ]
  },
  {
   "cell_type": "code",
   "execution_count": null,
   "metadata": {},
   "outputs": [],
   "source": [
    "zzz = list(res[col])\n",
    "\n",
    "\n",
    "from dashboard.core.analysis import fourier, periods\n",
    "from dashboard.core.bokeh import date_figure\n",
    "\n",
    "# print(fourier(zzz))\n",
    "\n",
    "\n",
    "zzz = list(hr) # TODO ok, here def need to resample??\n",
    "print(fourier(zzz))\n",
    "print(periods(zzz, n=5))\n",
    "# TODO function to residualize?\n",
    "# TODO hmmm. not sure if should process the autocorrelations or the original signal???\n",
    "# fewfwf\n",
    "\n",
    "res = df\n",
    "res = res.dropna()\n",
    "res['color'] = 'blue'\n",
    "\n",
    "# TODO need some sort of quickplot..\n",
    "p = date_figure(df=res)\n",
    "p.line   (source=CDS(res), x='date', y=col)\n",
    "p.scatter(source=CDS(res), x='date', y=col, color='color', size=2)\n",
    "p.title.text = f'Autocorrelaction of {col}'\n",
    "p.yaxis.axis_label = col\n",
    "p.xaxis.axis_label = 'days'\n",
    "show(p)\n",
    "\n",
    "# TODO how to residualize??\n",
    "\n",
    "# TODO https://www.statsmodels.org/stable/generated/statsmodels.tsa.seasonal.seasonal_decompose.html\n",
    "\n",
    "# TODO ugh. lag plot code seems to use .values (hence, indexes, not dates?)\n",
    "# pd.plotting.lag_plot(hr, lag=1)\n",
    "# from pandas.plotting import autocorrelation_plot\n",
    "# TODO same with autocorr plot.. need to fill gaps with nans?\n",
    "\n",
    "# TODO show how many points are participating in the lag?\n",
    "\n",
    "# I guess I need my own function + copy stuff from \n",
    "# ~/.local/lib/python3.8/site-packages/pandas/plotting/_matplotlib/misc.py\n",
    "\n",
    "# todo ok, this is interesting, but not sure. combine multiple?\n",
    "# TODO fourier breakdown?\n",
    "# TODO exclude jawbone data?\n",
    "# TODO wow. nightly temp. correlation plot looks pretty stupid\n",
    "\n",
    "# TODO https://en.wikipedia.org/wiki/Periodogram\n",
    "# https://en.wikipedia.org/wiki/Seasonal_subseries_plot"
   ]
  },
  {
   "cell_type": "code",
   "execution_count": null,
   "metadata": {},
   "outputs": [],
   "source": [
    "# todo onclick example https://stackoverflow.com/questions/53825387/python-bokeh-update-scatter-plot-colors-on-callback\n",
    "# TODO determine delta hr and plot 'dependence' on workdays?\n",
    "# TODO or plot 'derivative'?\n",
    "# todo disable individual points by default?"
   ]
  },
  {
   "cell_type": "code",
   "execution_count": null,
   "metadata": {},
   "outputs": [],
   "source": [
    "# TODO that probably doesn't mean a thing...\n",
    "# TODO hmm pandas also has nice stuff\n",
    "# core.window.ExponentialMovingWindow.cov\n",
    "#    Exponential weighted sample covariance.\n",
    "#core.window.Expanding.cov\n",
    "#    Expanding sample covariance.\n",
    "#core.window.Rolling.cov\n",
    "#    Rolling sample covariance.\n",
    "\n",
    "\n",
    "# rs = rolling(x='dt', y='sleepy', df=s, avgs=[])\n",
    "# rc = rolling(x='dt', y='kcal'  , df=c, avgs=[], color='green', context=rs)\n",
    "\n",
    "# todo hmm. maybe display a bar band after delta? not sure..\n",
    "# show(rc.figure)l\n",
    "\n",
    "# for each moment, find stuff within the delta??\n",
    "# TODO eh, this doesn't make much sense.. just plot the correlation directly?"
   ]
  },
  {
   "cell_type": "code",
   "execution_count": null,
   "metadata": {},
   "outputs": [],
   "source": [
    "import my.hypothesis as H\n",
    "hls = H.highlights()"
   ]
  },
  {
   "cell_type": "code",
   "execution_count": null,
   "metadata": {},
   "outputs": [],
   "source": [
    "from dashboard.data import cross_trainer_dataframe as DF\n",
    "df = DF()"
   ]
  },
  {
   "cell_type": "code",
   "execution_count": null,
   "metadata": {},
   "outputs": [],
   "source": [
    "from dashboard.cardio import *\n",
    "show(plot_cross_trainer(df))"
   ]
  },
  {
   "cell_type": "code",
   "execution_count": null,
   "metadata": {},
   "outputs": [],
   "source": [
    "df = pd.DataFrame(h._asdict() for h in hls)\n",
    "# print(df)\n",
    "\n",
    "\n",
    "df['count'] = 1 # meh\n",
    "\n",
    "df['date'] = df['created'].dt.date\n",
    "\n",
    "ddf = df.groupby(['date'], as_index=False).sum()\n",
    "\n",
    "\n",
    "p = date_figure()\n",
    "add_daysoff(p, dates=ddf['date'])\n",
    "p.scatter(x='created', y='count'  , source=CDS(data=df ), color='blue', legend_label='Hypothesis')\n",
    "p.vbar   (x='date'   , top='count', source=CDS(data=ddf))\n",
    "\n",
    "\n",
    "p.legend.click_policy = 'hide'\n",
    "\n",
    "show(p)\n",
    "\n",
    "# TODO might be nice to have a slider through a week at a time or something?\n",
    "# TODO maybe could display other sources on the same plots?"
   ]
  },
  {
   "cell_type": "code",
   "execution_count": null,
   "metadata": {},
   "outputs": [],
   "source": [
    "# TODO hmm, maybe update regression lines dynamically? Wonder if there is as callback in bokeh\n",
    "# https://stackoverflow.com/q/53287715/706389 here some sample code"
   ]
  },
  {
   "cell_type": "code",
   "execution_count": null,
   "metadata": {},
   "outputs": [],
   "source": [
    "# regression tap? some callbacky thing\n",
    "# http://holoviews.org/reference/streams/bokeh/regression_tap.html\n",
    "\n",
    "# TODO dynamic regression? https://gist.github.com/darothen/b1538c6571b67ed610669314551d3356\n",
    "\n",
    "xxx = emfit_df[['avg_hr', 'coverage']].dropna()\n",
    "\n",
    "# normal.opts(size=10) * hv.Slope.from_scatter(normal)\n",
    "sc = hv.Scatter((xxx['avg_hr'], xxx['coverage']))\n",
    "# TODO shit. need to filter nans??\n",
    "hv.Slope.from_scatter(sc).opts(color='red') * sc.opts(size=10)"
   ]
  },
  {
   "cell_type": "code",
   "execution_count": null,
   "metadata": {},
   "outputs": [],
   "source": [
    "from dashboard.sleep import plot_sleep_correlations\n",
    "plot_sleep_correlations(emfit_df)"
   ]
  },
  {
   "cell_type": "code",
   "execution_count": null,
   "metadata": {},
   "outputs": [],
   "source": [
    "# some examples of server with interactive stuff? \n",
    "# https://github.com/bokeh/bokeh/blob/master/examples/app/stocks/main.py\n",
    "\n",
    "# these for sleep intervals? https://docs.bokeh.org/en/latest/docs/gallery/stacked_area.html\n",
    "# also I had some old jawbone plots I think...\n",
    "# also existing emfit plots\n",
    "\n",
    "# food plots (breakdown) https://docs.bokeh.org/en/latest/docs/gallery/bar_stacked.html\n",
    "\n",
    "# TODO errors should be aggregated and displayed as a separate column? with ability to toggle\n",
    "\n",
    "\n",
    "# TODO ok, plotly has some callbacks for lasso/rectangle selection https://plotly.com/python/v3/selection-events/\n",
    "# with these, I could dynamically update the regression lines, I guess\n",
    "\n",
    "\n",
    "# TODO some nice dynamic interactions https://docs.bokeh.org/en/0.10.0/docs/user_guide/interaction.html"
   ]
  },
  {
   "cell_type": "code",
   "execution_count": null,
   "metadata": {},
   "outputs": [],
   "source": [
    "from dashboard.data import sleepiness_dataframe as SDF\n",
    "sdf = SDF()"
   ]
  },
  {
   "cell_type": "code",
   "execution_count": null,
   "metadata": {},
   "outputs": [],
   "source": [
    "from dashboard.sleepiness import plot_sleepiness_vs_sleep\n",
    "show(plot_sleepiness_vs_sleep())"
   ]
  },
  {
   "cell_type": "code",
   "execution_count": null,
   "metadata": {},
   "outputs": [],
   "source": [
    "from dashboard.data import locations_dataframe\n",
    "locs = locations_dataframe()"
   ]
  },
  {
   "cell_type": "code",
   "execution_count": null,
   "metadata": {},
   "outputs": [],
   "source": [
    "import pandas as pd\n",
    "import numpy as np\n",
    "import geoviews as gv\n",
    "import geoviews.feature as gf\n",
    "from cartopy import crs\n",
    "from bokeh.io import output_notebook\n",
    "output_notebook()\n",
    "pd.set_option('display.max_columns', 100)\n",
    "gv.extension('bokeh')"
   ]
  },
  {
   "cell_type": "code",
   "execution_count": null,
   "metadata": {},
   "outputs": [],
   "source": [
    "from datetime import date\n",
    "from_ = date(2019, 2, 1)\n",
    "to    = date(2019, 4, 1)\n",
    "df = locs[(from_ <= locs.index.date) & (locs.index.date <= to)] # meh, but not too bad\n",
    "\n",
    "df = df[['lat', 'lon']]\n",
    "df['date'] = df.index.date # meh\n",
    "df[:5]\n",
    "# todo wonder, what's its performance? how many points it can handle?\n",
    "# ok, 2 month of data took about a minute to render"
   ]
  },
  {
   "cell_type": "code",
   "execution_count": null,
   "metadata": {},
   "outputs": [],
   "source": [
    "# https://malouche.github.io/notebooks/geoviews2.html\n",
    "# https://data-dive.com/interactive-maps-made-easy-geoviews\n",
    "plot = (gf.ocean * gf.land * gf.coastline * gf.borders).options(\n",
    "    'Feature', projection=crs.Mercator(), global_extent=True, frame_height=1000,frame_width=1500,\n",
    ")\n",
    "# Convert locations to points and overlay on previous map\n",
    "points = gv.Points(df, kdims=['lon', 'lat'], vdims=['date']).groupby(['date'])\n",
    "plot_points = plot * points.opts(alpha=0.3, color='red', size=4)\n",
    "plot_points.opts(width=500, height=400)\n",
    "# todo hmm, how to set initial zoom? ideally, auto adjust it interactively depending on the day\n",
    "# todo how to add proper keybindings for move/zoom? with ctrl etc"
   ]
  }
 ],
 "metadata": {
  "kernelspec": {
   "display_name": "Python 3",
   "language": "python",
   "name": "python3"
  },
  "language_info": {
   "codemirror_mode": {
    "name": "ipython",
    "version": 3
   },
   "file_extension": ".py",
   "mimetype": "text/x-python",
   "name": "python",
   "nbconvert_exporter": "python",
   "pygments_lexer": "ipython3",
   "version": "3.8.5"
  }
 },
 "nbformat": 4,
 "nbformat_minor": 4
}
