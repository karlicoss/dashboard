{
 "cells": [
  {
   "cell_type": "code",
   "execution_count": null,
   "metadata": {},
   "outputs": [],
   "source": [
    "from IPython.core.display import display, HTML\n",
    "display(HTML(\"<style>.container { width:100% !important; }</style>\"))\n",
    "display(HTML(\"<style>div.output_scroll { height: auto; }</style>\"))\n",
    "# TODO need to ctrl-shift-I after that?? wtf?"
   ]
  },
  {
   "cell_type": "code",
   "execution_count": null,
   "metadata": {},
   "outputs": [],
   "source": [
    "# todo hmm, not sure if I really need it?\n",
    "# %load_ext autoreload\n",
    "# %autoreload 2"
   ]
  },
  {
   "cell_type": "code",
   "execution_count": null,
   "metadata": {},
   "outputs": [],
   "source": [
    "import os\n",
    "from pathlib import Path\n",
    "pp = str(Path(os.getcwd()).absolute().parent / 'src')\n",
    "import sys\n",
    "sys.path.insert(0, pp)"
   ]
  },
  {
   "cell_type": "code",
   "execution_count": null,
   "metadata": {},
   "outputs": [],
   "source": [
    "import my.emfit as emfit\n",
    "emfit_df = emfit.dataframe()"
   ]
  },
  {
   "cell_type": "code",
   "execution_count": null,
   "metadata": {},
   "outputs": [],
   "source": [
    "from bokeh.plotting import figure, show\n",
    "from bokeh.io import output_notebook\n",
    "output_notebook()\n",
    "from bokeh.models import LinearAxis, Range1d\n",
    "from bokeh.models import HoverTool\n",
    "from bokeh.models import ColumnDataSource as CDS\n",
    "import pandas as pd"
   ]
  },
  {
   "cell_type": "code",
   "execution_count": null,
   "metadata": {},
   "outputs": [],
   "source": [
    "# see https://docs.bokeh.org/en/latest/docs/user_guide/tools.html#basic-tooltips\n",
    "# TODO date is displayed as unix time\n",
    "\n",
    "from dashboard.sleep import add_daysoff, date_figure\n",
    "from dashboard.core.bokeh import rolling\n",
    "\n",
    "df = emfit_df\n",
    "# TODO if there are Nans, it fails to plot anything?? handle in a generic way, add warnings\n",
    "df = df[df['error'].isnull()]\n",
    "df = df.set_index('date')\n",
    "\n",
    "# todo make index??\n",
    "# mean = cs.rolling(f'{d}D').mean()\n",
    "\n",
    "# TODO ugh. figure out how pandas determines the index type..\n",
    "\n",
    "df.index = pd.to_datetime(df.index, utc=True)\n",
    "dates = df.index\n",
    "\n",
    "# TODO reuse functions for adding moving averages? Perhaps they should operate on dataframes to be framework independent?\n",
    "p = date_figure()\n",
    "add_daysoff(p, dates=dates)\n",
    "\n",
    "# TODO https://github.com/bokeh/bokeh/blob/master/examples/app/sliders.py\n",
    "\n",
    "# todo naming: plot vs figure vs graph?\n",
    "[g, g7, g30] = rolling(plot=p, x='date', y='avg_hr', df=df, color='blue', legend_label='HR')\n",
    "g7 .glyph.line_width = 2\n",
    "g30.glyph.line_color = 'lightblue'\n",
    "g30.glyph.line_width = 2\n",
    "\n",
    "\n",
    "p.extra_y_ranges = {'resp': Range1d(start=10, end=25)}\n",
    "# Addi the second axis to the plot.  \n",
    "p.add_layout(LinearAxis(y_range_name='resp'), 'right')\n",
    "rolling(plot=p, x='date', y='respiratory_rate_avg', df=df, color='orange', legend_label='Respiration', avgs=['7D'], y_range_name='resp')\n",
    "\n",
    "p.legend.click_policy = 'hide'\n",
    "\n",
    "show(p)"
   ]
  },
  {
   "cell_type": "code",
   "execution_count": null,
   "metadata": {},
   "outputs": [],
   "source": [
    "# todo onclick example https://stackoverflow.com/questions/53825387/python-bokeh-update-scatter-plot-colors-on-callback\n",
    "# TODO determine delta hr and plot 'dependence' on workdays?\n",
    "# TODO or plot 'derivative'?\n",
    "# TODO more frequent ticks?\n",
    "\n",
    "# hrv = df[['hrv_morning', 'hrv_evening']]\n",
    "\n",
    "# TODO filter non-nan values??\n",
    "dfm7d  = df.rolling('7D' ).mean()\n",
    "dfm30d = df.rolling('30D').mean()\n",
    "\n",
    "# TODO some hrv evening points are right at zero? careful, maybe worth filtering..\n",
    "p2 = date_figure(x_range=p.x_range)\n",
    "[g, g7, g30] = rolling(plot=p2, x='date', y='hrv_morning', df=df, color='green' )\n",
    "g7 .glyph.line_dash = 'dashed'\n",
    "g30.glyph.line_width = 2\n",
    "[g, g7, g30] = rolling(plot=p2, x='date', y='hrv_evening', df=df, color='purple')\n",
    "g7.glyph.line_dash = 'dashed'\n",
    "g30.glyph.line_width = 2\n",
    "add_daysoff(p2, dates=dates)\n",
    "\n",
    "p2.legend.click_policy = 'hide'\n",
    "show(p2)\n",
    "# todo disable individual points by default?\n",
    "\n",
    "def mins(tt):\n",
    "    # TODO shit. would just use time() but time doesn't allow wrapping around 24 hours\n",
    "    # and timedelta is not serializable by plotly...\n",
    "    mm = tt.hour * 60 + tt.minute\n",
    "    if tt.hour < 16:\n",
    "        mm += 24 * 60\n",
    "    # TODO also careful about utc..\n",
    "    return mm\n",
    "\n",
    "\n",
    "ints  = df[['sleep_start', 'sleep_end']].applymap(lambda dt: mins(dt.time()))\n",
    "# todo maybe instead plot angled lines? then won't need messing with minutes at all? Although still useful to keep \n",
    "p3 = date_figure(x_range=p.x_range)\n",
    "from datetime import time\n",
    "mint = mins(time(22, 0))\n",
    "maxt = mins(time(11, 0))\n",
    "add_daysoff(p3, bottom=mint, top=maxt, dates=dates)\n",
    "p3.vbar(source=CDS(ints), x='date', width=timedelta(1), bottom='sleep_start', top='sleep_end', color='black', alpha=0.1)\n",
    "\n",
    "\n",
    "from bokeh.models import FuncTickFormatter, FixedTicker\n",
    "p3.yaxis.ticker = FixedTicker(ticks=list(range(mint, maxt, 30)))\n",
    "p3.yaxis.formatter = FuncTickFormatter(code=\"\"\"\n",
    "    var hh = Math.floor(tick / 60 % 24).toString()\n",
    "    var mm = (tick % 60).toString()\n",
    "    if (hh.length == 1) hh = \"0\" + hh;\n",
    "    if (mm.length == 1) mm = \"0\" + mm;\n",
    "    return `${hh}:${mm}`\n",
    "\"\"\")\n",
    "\n",
    "# todo scatter: maybe only display few latest points? not sure how easy it is to achieve?\n",
    "\n",
    "p3.legend.click_policy = 'hide'\n",
    "show(p3)"
   ]
  },
  {
   "cell_type": "code",
   "execution_count": null,
   "metadata": {},
   "outputs": [],
   "source": [
    "import my.bluemaestro as bluemaestro\n",
    "orig_df = bluemaestro.dataframe()"
   ]
  },
  {
   "cell_type": "code",
   "execution_count": null,
   "metadata": {},
   "outputs": [],
   "source": [
    "import datetime\n",
    "from bokeh.models import ColumnDataSource as CDS\n",
    "\n",
    "df = orig_df\n",
    "df = df.sort_index() # FIXME should be fixed in hpi? but also make it defensive\n",
    "df = df[-40000:]\n",
    "\n",
    "# TODO 'index must be monotonic??'\n",
    "\n",
    "print(df[-5:])\n",
    "m1d  = df[['temp']].rolling('1D' ).mean()\n",
    "\n",
    "p = figure(x_axis_type='datetime', plot_width=2000)\n",
    "p.scatter(x='dt', y='temp', source=CDS(data=df ), color='blue', legend_label='Temperature'         )\n",
    "p.line   (x='dt', y='temp', source=CDS(data=m1d), color='red' , legend_label='Temperature (1d avg)')\n",
    "# TODO plot frequency of data?? could be even automatic (akin to hpi doctor/stat)\n",
    "\n",
    "show(p)\n",
    "# TODO highlight different days?\n",
    "\n",
    "# TODO hpi: I feel like points duplicate each other without being filtered...\n",
    "# and probably across different export files?? a bit crap\n",
    "\n",
    "day_count = df.groupby(df.index.date).count()\n",
    "print(day_count[:10])\n",
    "\n",
    "p = figure(x_axis_type='datetime', plot_width=2000)\n",
    "p.vbar(x='index', top='temp', source=CDS(day_count), width=datetime.timedelta(days=1) * 0.95)\n",
    "show(p)\n"
   ]
  },
  {
   "cell_type": "code",
   "execution_count": null,
   "metadata": {},
   "outputs": [],
   "source": [
    "# TODO for temp, maybe heatplot would make more sense? E.g. x axis days y axis time of day. although discontinuity at 0:00 is gonna be annoying.\n",
    "# could group by weeks?"
   ]
  },
  {
   "cell_type": "code",
   "execution_count": null,
   "metadata": {},
   "outputs": [],
   "source": [
    "# TODO hmm, maybe update regression lines dynamically? Wonder if there is as callback in bokeh\n",
    "# https://stackoverflow.com/q/53287715/706389 here some sample code\n",
    "import holoviews as hv\n",
    "from holoviews import opts\n",
    "hv.extension('bokeh')"
   ]
  },
  {
   "cell_type": "code",
   "execution_count": null,
   "metadata": {},
   "outputs": [],
   "source": [
    "# regression tap? some callbacky thing\n",
    "# http://holoviews.org/reference/streams/bokeh/regression_tap.html\n",
    "\n",
    "# TODO dynamic regression? https://gist.github.com/darothen/b1538c6571b67ed610669314551d3356\n",
    "\n",
    "xxx = emfit_df[['avg_hr', 'coverage']].dropna()\n",
    "\n",
    "# normal.opts(size=10) * hv.Slope.from_scatter(normal)\n",
    "sc = hv.Scatter((xxx['avg_hr'], xxx['coverage']))\n",
    "# TODO shit. need to filter nans??\n",
    "hv.Slope.from_scatter(sc).opts(color='red') * sc.opts(size=10)"
   ]
  },
  {
   "cell_type": "code",
   "execution_count": null,
   "metadata": {},
   "outputs": [],
   "source": [
    "import dashboard.core as C\n",
    "\n",
    "import pandas as pd\n",
    "import hvplot.pandas  # noqa\n",
    "from holoviews import opts\n",
    "\n",
    "\n",
    "# todo add holiday/non-holiday? or days from holiday? could be interesting\n",
    "cols = ['coverage', 'avg_hr', 'hrv_change', 'bed_time', 'recovery', 'respiratory_rate_avg']\n",
    "df = emfit_df[cols]\n",
    "\n",
    "# todo uhoh. I guess the other fields won't be available for hover?\n",
    "hover = HoverTool(\n",
    "    tooltips=[(x, f'@{x}') for x in cols],\n",
    "    #formatters={\n",
    "    #    '@date'        : 'datetime', # use 'datetime' formatter for '@date' field\n",
    "    #},\n",
    "    # display a tooltip whenever the cursor is vertically in line with a glyph\n",
    "    # not sure about that here\n",
    "    # not sure if it even works??\n",
    "    # mode='vline'\n",
    ")\n",
    "\n",
    "\n",
    "# todo reuse/determine width\n",
    "# hmm, didn't manage to quickly google how to do this\n",
    "tools = [hover, 'box_select', 'lasso_select', 'tap']\n",
    "sm = C.scatter_matrix(df, width=2000, height=2000).opts(\n",
    "    opts.Scatter  (tools=tools), \n",
    "    opts.Histogram(tools=tools),\n",
    "#    # opts.Layout(width=2000, height=2000), # -- doesn't seem to do anything?\n",
    ")\n",
    "sm\n",
    "\n",
    "\n",
    "# TODO add tools to do vertical projections?\n",
    "\n",
    "\n",
    "# ugh. https://github.com/holoviz/hvplot/blob/ab43c4f68aa7e485326dea567a348b96d24ebf60/hvplot/plotting/scatter_matrix.py#L45 not sure if the needed parameters are passed?..\n",
    "\n",
    "# gridmatrix code? https://github.com/holoviz/holoviews/blob/5deb4a7b7f04f989fcc39bb06e657e8b6dfb4ea2/holoviews/operation/element.py#L997\n",
    "\n",
    "# TODO date slider? to hightligh changes over dates E.g. left-right\n",
    "# TODO show dates on tooltips"
   ]
  },
  {
   "cell_type": "code",
   "execution_count": null,
   "metadata": {},
   "outputs": [],
   "source": [
    "from dashboard.core import _scatter_matrix_demo\n",
    "sm = _scatter_matrix_demo(width=2000)\n",
    "sm"
   ]
  },
  {
   "cell_type": "code",
   "execution_count": null,
   "metadata": {},
   "outputs": [],
   "source": [
    "# some examples of server with interactive stuff? \n",
    "# https://github.com/bokeh/bokeh/blob/master/examples/app/stocks/main.py\n",
    "\n",
    "# these for sleep intervals? https://docs.bokeh.org/en/latest/docs/gallery/stacked_area.html\n",
    "# also I had some old jawbone plots I think...\n",
    "# also existing emfit plots\n",
    "\n",
    "# food plots (breakdown) https://docs.bokeh.org/en/latest/docs/gallery/bar_stacked.html\n",
    "\n",
    "# TODO errors should be aggregated and displayed as a separate column? with ability to toggle\n",
    "\n",
    "\n",
    "# TODO ok, plotly has some callbacks for lasso/rectangle selection https://plotly.com/python/v3/selection-events/\n",
    "# with these, I could dynamically update the regression lines, I guess\n",
    "\n",
    "\n",
    "# TODO some nice dynamic interactions https://docs.bokeh.org/en/0.10.0/docs/user_guide/interaction.html"
   ]
  },
  {
   "cell_type": "code",
   "execution_count": null,
   "metadata": {},
   "outputs": [],
   "source": [
    "import my.body.blood as B\n",
    "bdf = B.dataframe()"
   ]
  },
  {
   "cell_type": "code",
   "execution_count": null,
   "metadata": {},
   "outputs": [],
   "source": [
    "p = date_figure()\n",
    "# TODO fuck. seems that bokeh fails to plot if some data is interleaved with Nans\n",
    "# right, see https://github.com/bokeh/bokeh/issues/737\n",
    "# I guess, need a helper after all to handle it better\n",
    "\n",
    "# TODO set x range as the first thing to max\n",
    "x_range = None\n",
    "\n",
    "cols = set(bdf.columns)\n",
    "cols = cols.difference({'dt', 'extra', 'source'})\n",
    "\n",
    "# todo autodiscover fields??\n",
    "for f in sorted(cols):\n",
    "    # todo add source to annotation?\n",
    "    # todo add normal ranges\n",
    "    p = date_figure(x_range=x_range)\n",
    "    \n",
    "    fdf = bdf[bdf[f].notna()]\n",
    "    \n",
    "    p.scatter(x='dt', y=f, source=CDS(data=fdf))\n",
    "    p.line   (x='dt', y=f, source=CDS(data=fdf))\n",
    "    p.title.text = f\n",
    "    show(p)\n",
    "    if x_range is None:\n",
    "        x_range = p.x_range"
   ]
  },
  {
   "cell_type": "code",
   "execution_count": null,
   "metadata": {},
   "outputs": [],
   "source": [
    "from dashboard.data import locations_dataframe\n",
    "locs = locations_dataframe()"
   ]
  },
  {
   "cell_type": "code",
   "execution_count": null,
   "metadata": {},
   "outputs": [],
   "source": [
    "import pandas as pd\n",
    "import numpy as np\n",
    "import geoviews as gv\n",
    "import geoviews.feature as gf\n",
    "from cartopy import crs\n",
    "from bokeh.io import output_notebook\n",
    "output_notebook()\n",
    "pd.set_option('display.max_columns', 100)\n",
    "gv.extension('bokeh')"
   ]
  },
  {
   "cell_type": "code",
   "execution_count": null,
   "metadata": {},
   "outputs": [],
   "source": [
    "from datetime import date\n",
    "from_ = date(2019, 2, 1)\n",
    "to    = date(2019, 4, 1)\n",
    "df = locs[(from_ <= locs.index.date) & (locs.index.date <= to)] # meh, but not too bad\n",
    "\n",
    "df = df[['lat', 'lon']]\n",
    "df['date'] = df.index.date # meh\n",
    "df[:5]\n",
    "# todo wonder, what's its performance? how many points it can handle?\n",
    "# ok, 2 month of data took about a minute to render"
   ]
  },
  {
   "cell_type": "code",
   "execution_count": null,
   "metadata": {},
   "outputs": [],
   "source": [
    "# https://malouche.github.io/notebooks/geoviews2.html\n",
    "# https://data-dive.com/interactive-maps-made-easy-geoviews\n",
    "plot = (gf.ocean * gf.land * gf.coastline * gf.borders).options(\n",
    "    'Feature', projection=crs.Mercator(), global_extent=True, frame_height=1000,frame_width=1500,\n",
    ")\n",
    "# Convert locations to points and overlay on previous map\n",
    "points = gv.Points(df, kdims=['lon', 'lat'], vdims=['date']).groupby(['date'])\n",
    "plot_points = plot * points.opts(alpha=0.3, color='red', size=4)\n",
    "plot_points.opts(width=500, height=400)\n",
    "# todo hmm, how to set initial zoom? ideally, auto adjust it interactively depending on the day\n",
    "# todo how to add proper keybindings for move/zoom? with ctrl etc"
   ]
  }
 ],
 "metadata": {
  "kernelspec": {
   "display_name": "Python 3",
   "language": "python",
   "name": "python3"
  },
  "language_info": {
   "codemirror_mode": {
    "name": "ipython",
    "version": 3
   },
   "file_extension": ".py",
   "mimetype": "text/x-python",
   "name": "python",
   "nbconvert_exporter": "python",
   "pygments_lexer": "ipython3",
   "version": "3.8.2"
  }
 },
 "nbformat": 4,
 "nbformat_minor": 4
}
