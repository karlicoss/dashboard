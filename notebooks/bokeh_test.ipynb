{
 "cells": [
  {
   "cell_type": "code",
   "execution_count": null,
   "metadata": {},
   "outputs": [],
   "source": [
    "from IPython.core.display import display, HTML\n",
    "display(HTML(\"<style>.container { width:100% !important; }</style>\"))\n",
    "display(HTML(\"<style>div.output_scroll { height: auto; }</style>\"))"
   ]
  },
  {
   "cell_type": "code",
   "execution_count": null,
   "metadata": {},
   "outputs": [],
   "source": [
    "import my.emfit as emfit"
   ]
  },
  {
   "cell_type": "code",
   "execution_count": null,
   "metadata": {},
   "outputs": [],
   "source": [
    "df = emfit.dataframe()"
   ]
  },
  {
   "cell_type": "code",
   "execution_count": null,
   "metadata": {},
   "outputs": [],
   "source": [
    "df"
   ]
  },
  {
   "cell_type": "code",
   "execution_count": null,
   "metadata": {},
   "outputs": [],
   "source": [
    "from bokeh.plotting import figure, show\n",
    "from bokeh.io import output_notebook\n",
    "output_notebook()"
   ]
  },
  {
   "cell_type": "code",
   "execution_count": null,
   "metadata": {},
   "outputs": [],
   "source": [
    "from bokeh.models import ColumnDataSource\n",
    "\n",
    "\n",
    "# df = df[df['error'].isnull()]\n",
    "# df = df.set_index('date')\n",
    "\n",
    "# print(df[:10])\n",
    "\n",
    "# raise RuntimeError\n",
    "# todo make index??\n",
    "# mean = cs.rolling(f'{d}D').mean()\n",
    "\n",
    "# TODO ugh. figure out how pandas determines the index type..\n",
    "# import pandas as pd\n",
    "# df.index = pd.to_datetime(df.index, utc=True)\n",
    "\n",
    "\n",
    "# see https://docs.bokeh.org/en/latest/docs/user_guide/tools.html#basic-tooltips\n",
    "# TODO date is displayed as unix time\n",
    "from bokeh.models import HoverTool\n",
    "hover = HoverTool(\n",
    "    tooltips=[\n",
    "        ( 'date',   '@date{%F}'            ),\n",
    "    ],\n",
    "\n",
    "    formatters={\n",
    "        '@date'        : 'datetime', # use 'datetime' formatter for '@date' field\n",
    "    },\n",
    "\n",
    "    # display a tooltip whenever the cursor is vertically in line with a glyph\n",
    "    mode='vline'\n",
    ")\n",
    "\n",
    "# TODO reuse functions for adding moving averages? Perhaps they should operate on dataframes to be framework independent?\n",
    "p = figure(x_axis_type='datetime', plot_width=2000)\n",
    "p.add_tools(hover)\n",
    "\n",
    "\n",
    "# TODO https://github.com/bokeh/bokeh/blob/master/examples/app/sliders.py\n",
    "\n",
    "# TODO if there are Nans, it fails to plot anything??\n",
    "\n",
    "m7d  = df[['avg_hr']].rolling('7D' ).mean()\n",
    "m30d = df[['avg_hr']].rolling('30D').mean()\n",
    "\n",
    "p.scatter(x='date', y='avg_hr', source=ColumnDataSource(data=df  ), color='blue' , legend_label='HR'              )\n",
    "p.line   (x='date', y='avg_hr', source=ColumnDataSource(data=m7d ), color='red'  , legend_label='HR (7  days avg)')\n",
    "p.line   (x='date', y='avg_hr', source=ColumnDataSource(data=m30d), color='green', legend_label='HR (30 days avg)')\n",
    "\n",
    "\n",
    "p.legend.click_policy = 'hide'\n",
    "\n",
    "\n",
    "show(p)"
   ]
  }
 ],
 "metadata": {
  "kernelspec": {
   "display_name": "Python 3",
   "language": "python",
   "name": "python3"
  },
  "language_info": {
   "codemirror_mode": {
    "name": "ipython",
    "version": 3
   },
   "file_extension": ".py",
   "mimetype": "text/x-python",
   "name": "python",
   "nbconvert_exporter": "python",
   "pygments_lexer": "ipython3",
   "version": "3.8.2"
  }
 },
 "nbformat": 4,
 "nbformat_minor": 4
}
