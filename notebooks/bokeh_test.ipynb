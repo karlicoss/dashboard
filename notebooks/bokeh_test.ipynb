{
 "cells": [
  {
   "cell_type": "code",
   "execution_count": null,
   "metadata": {},
   "outputs": [],
   "source": [
    "from IPython.core.display import display, HTML\n",
    "display(HTML(\"<style>.container { width:100% !important; }</style>\"))\n",
    "display(HTML(\"<style>div.output_scroll { height: auto; }</style>\"))\n",
    "# TODO need to ctrl-shift-I after that?? wtf?"
   ]
  },
  {
   "cell_type": "code",
   "execution_count": null,
   "metadata": {},
   "outputs": [],
   "source": [
    "import os\n",
    "from pathlib import Path\n",
    "pp = str(Path(os.getcwd()).absolute().parent / 'src')\n",
    "import sys\n",
    "sys.path.insert(0, pp)"
   ]
  },
  {
   "cell_type": "code",
   "execution_count": null,
   "metadata": {},
   "outputs": [],
   "source": [
    "import my.emfit as emfit\n",
    "emfit_df = emfit.dataframe()"
   ]
  },
  {
   "cell_type": "code",
   "execution_count": null,
   "metadata": {},
   "outputs": [],
   "source": [
    "from bokeh.plotting import figure, show\n",
    "from bokeh.io import output_notebook\n",
    "output_notebook()\n",
    "from bokeh.models import LinearAxis, Range1d\n",
    "from bokeh.models import HoverTool\n",
    "from bokeh.models import ColumnDataSource as CDS\n",
    "import pandas as pd"
   ]
  },
  {
   "cell_type": "code",
   "execution_count": null,
   "metadata": {},
   "outputs": [],
   "source": [
    "from dashboard.data import weight_dataframe as DF\n",
    "wdf = DF()"
   ]
  },
  {
   "cell_type": "code",
   "execution_count": null,
   "metadata": {},
   "outputs": [],
   "source": [
    "%autoreload 2\n",
    "# TODO hmm, maybe this 2 is useful to reload submodules? check later\n",
    "# yeah, without it seems to throw some crappy errors?"
   ]
  },
  {
   "cell_type": "code",
   "execution_count": null,
   "metadata": {},
   "outputs": [],
   "source": [
    "from dashboard.weight import plot_weight\n",
    "show(plot_weight(wdf))"
   ]
  },
  {
   "cell_type": "code",
   "execution_count": null,
   "metadata": {},
   "outputs": [],
   "source": [
    "# see https://docs.bokeh.org/en/latest/docs/user_guide/tools.html#basic-tooltips\n",
    "# TODO date is displayed as unix time\n",
    "# todo onclick example https://stackoverflow.com/questions/53825387/python-bokeh-update-scatter-plot-colors-on-callback\n",
    "# TODO determine delta hr and plot 'dependence' on workdays?\n",
    "# TODO or plot 'derivative'?\n",
    "# todo disable individual points by default?"
   ]
  },
  {
   "cell_type": "code",
   "execution_count": null,
   "metadata": {},
   "outputs": [],
   "source": [
    "from dashboard.data import sleep_dataframe\n",
    "df = sleep_dataframe()"
   ]
  },
  {
   "cell_type": "code",
   "execution_count": null,
   "metadata": {},
   "outputs": [],
   "source": [
    "from dashboard.sleep import *\n",
    "show(plot_all_sleep(df))"
   ]
  },
  {
   "cell_type": "code",
   "execution_count": null,
   "metadata": {},
   "outputs": [],
   "source": [
    "import my.hypothesis as H\n",
    "hls = H.highlights()"
   ]
  },
  {
   "cell_type": "code",
   "execution_count": null,
   "metadata": {},
   "outputs": [],
   "source": [
    "from dashboard.data import endomondo_dataframe\n",
    "df = endomondo_dataframe()"
   ]
  },
  {
   "cell_type": "code",
   "execution_count": null,
   "metadata": {},
   "outputs": [],
   "source": [
    "from dashboard.running import plot_running\n",
    "show(plot_running(df))"
   ]
  },
  {
   "cell_type": "code",
   "execution_count": null,
   "metadata": {},
   "outputs": [],
   "source": [
    "df = pd.DataFrame(h._asdict() for h in hls)\n",
    "# print(df)\n",
    "\n",
    "\n",
    "df['count'] = 1 # meh\n",
    "\n",
    "df['date'] = df['created'].dt.date\n",
    "\n",
    "ddf = df.groupby(['date'], as_index=False).sum()\n",
    "\n",
    "\n",
    "p = date_figure()\n",
    "add_daysoff(p, dates=ddf['date'])\n",
    "p.scatter(x='created', y='count'  , source=CDS(data=df ), color='blue', legend_label='Hypothesis')\n",
    "p.vbar   (x='date'   , top='count', source=CDS(data=ddf))\n",
    "\n",
    "\n",
    "p.legend.click_policy = 'hide'\n",
    "\n",
    "show(p)\n",
    "\n",
    "# TODO might be nice to have a slider through a week at a time or something?\n",
    "# TODO maybe could display other sources on the same plots?"
   ]
  },
  {
   "cell_type": "code",
   "execution_count": null,
   "metadata": {},
   "outputs": [],
   "source": [
    "import my.bluemaestro as bluemaestro\n",
    "orig_df = bluemaestro.dataframe()"
   ]
  },
  {
   "cell_type": "code",
   "execution_count": null,
   "metadata": {},
   "outputs": [],
   "source": [
    "import datetime\n",
    "from bokeh.models import ColumnDataSource as CDS\n",
    "\n",
    "df = orig_df\n",
    "df = df.sort_index() # FIXME should be fixed in hpi? but also make it defensive\n",
    "df = df[-40000:]\n",
    "\n",
    "# TODO 'index must be monotonic??'\n",
    "\n",
    "print(df[-5:])\n",
    "m1d  = df[['temp']].rolling('1D' ).mean()\n",
    "\n",
    "p = figure(x_axis_type='datetime', plot_width=2000)\n",
    "p.scatter(x='dt', y='temp', source=CDS(data=df ), color='blue', legend_label='Temperature'         )\n",
    "p.line   (x='dt', y='temp', source=CDS(data=m1d), color='red' , legend_label='Temperature (1d avg)')\n",
    "# TODO plot frequency of data?? could be even automatic (akin to hpi doctor/stat)\n",
    "\n",
    "show(p)\n",
    "# TODO highlight different days?\n",
    "\n",
    "# TODO hpi: I feel like points duplicate each other without being filtered...\n",
    "# and probably across different export files?? a bit crap\n",
    "\n",
    "day_count = df.groupby(df.index.date).count()\n",
    "print(day_count[:10])\n",
    "\n",
    "p = figure(x_axis_type='datetime', plot_width=2000)\n",
    "p.vbar(x='index', top='temp', source=CDS(day_count), width=datetime.timedelta(days=1) * 0.95)\n",
    "show(p)\n"
   ]
  },
  {
   "cell_type": "code",
   "execution_count": null,
   "metadata": {},
   "outputs": [],
   "source": [
    "# TODO for temp, maybe heatplot would make more sense? E.g. x axis days y axis time of day. although discontinuity at 0:00 is gonna be annoying.\n",
    "# could group by weeks?"
   ]
  },
  {
   "cell_type": "code",
   "execution_count": null,
   "metadata": {},
   "outputs": [],
   "source": [
    "# TODO hmm, maybe update regression lines dynamically? Wonder if there is as callback in bokeh\n",
    "# https://stackoverflow.com/q/53287715/706389 here some sample code\n",
    "import holoviews as hv\n",
    "from holoviews import opts\n",
    "hv.extension('bokeh')"
   ]
  },
  {
   "cell_type": "code",
   "execution_count": null,
   "metadata": {},
   "outputs": [],
   "source": [
    "# regression tap? some callbacky thing\n",
    "# http://holoviews.org/reference/streams/bokeh/regression_tap.html\n",
    "\n",
    "# TODO dynamic regression? https://gist.github.com/darothen/b1538c6571b67ed610669314551d3356\n",
    "\n",
    "xxx = emfit_df[['avg_hr', 'coverage']].dropna()\n",
    "\n",
    "# normal.opts(size=10) * hv.Slope.from_scatter(normal)\n",
    "sc = hv.Scatter((xxx['avg_hr'], xxx['coverage']))\n",
    "# TODO shit. need to filter nans??\n",
    "hv.Slope.from_scatter(sc).opts(color='red') * sc.opts(size=10)"
   ]
  },
  {
   "cell_type": "code",
   "execution_count": null,
   "metadata": {},
   "outputs": [],
   "source": [
    "from dashboard.sleep import plot_sleep_correlations\n",
    "plot_sleep_correlations(emfit_df)"
   ]
  },
  {
   "cell_type": "code",
   "execution_count": null,
   "metadata": {},
   "outputs": [],
   "source": [
    "import holoviews as hv\n",
    "\n",
    "from dashboard.core.bokeh import _scatter_matrix_demo\n",
    "sm = _scatter_matrix_demo(width=2000)\n",
    "show(hv.render(sm))"
   ]
  },
  {
   "cell_type": "code",
   "execution_count": null,
   "metadata": {},
   "outputs": [],
   "source": [
    "# some examples of server with interactive stuff? \n",
    "# https://github.com/bokeh/bokeh/blob/master/examples/app/stocks/main.py\n",
    "\n",
    "# these for sleep intervals? https://docs.bokeh.org/en/latest/docs/gallery/stacked_area.html\n",
    "# also I had some old jawbone plots I think...\n",
    "# also existing emfit plots\n",
    "\n",
    "# food plots (breakdown) https://docs.bokeh.org/en/latest/docs/gallery/bar_stacked.html\n",
    "\n",
    "# TODO errors should be aggregated and displayed as a separate column? with ability to toggle\n",
    "\n",
    "\n",
    "# TODO ok, plotly has some callbacks for lasso/rectangle selection https://plotly.com/python/v3/selection-events/\n",
    "# with these, I could dynamically update the regression lines, I guess\n",
    "\n",
    "\n",
    "# TODO some nice dynamic interactions https://docs.bokeh.org/en/0.10.0/docs/user_guide/interaction.html"
   ]
  },
  {
   "cell_type": "code",
   "execution_count": null,
   "metadata": {},
   "outputs": [],
   "source": [
    "# todo hmm could reuse tab for it too? although splitting is nicer in terms of caching\n",
    "import my.body.blood as B\n",
    "bdf = B.dataframe()"
   ]
  },
  {
   "cell_type": "code",
   "execution_count": null,
   "metadata": {},
   "outputs": [],
   "source": [
    "from dashboard.blood import plot_blood\n",
    "p = plot_blood(bdf)\n",
    "show(p)"
   ]
  },
  {
   "cell_type": "code",
   "execution_count": null,
   "metadata": {},
   "outputs": [],
   "source": [
    "from dashboard.data import locations_dataframe\n",
    "locs = locations_dataframe()"
   ]
  },
  {
   "cell_type": "code",
   "execution_count": null,
   "metadata": {},
   "outputs": [],
   "source": [
    "import pandas as pd\n",
    "import numpy as np\n",
    "import geoviews as gv\n",
    "import geoviews.feature as gf\n",
    "from cartopy import crs\n",
    "from bokeh.io import output_notebook\n",
    "output_notebook()\n",
    "pd.set_option('display.max_columns', 100)\n",
    "gv.extension('bokeh')"
   ]
  },
  {
   "cell_type": "code",
   "execution_count": null,
   "metadata": {},
   "outputs": [],
   "source": [
    "from datetime import date\n",
    "from_ = date(2019, 2, 1)\n",
    "to    = date(2019, 4, 1)\n",
    "df = locs[(from_ <= locs.index.date) & (locs.index.date <= to)] # meh, but not too bad\n",
    "\n",
    "df = df[['lat', 'lon']]\n",
    "df['date'] = df.index.date # meh\n",
    "df[:5]\n",
    "# todo wonder, what's its performance? how many points it can handle?\n",
    "# ok, 2 month of data took about a minute to render"
   ]
  },
  {
   "cell_type": "code",
   "execution_count": null,
   "metadata": {},
   "outputs": [],
   "source": [
    "# https://malouche.github.io/notebooks/geoviews2.html\n",
    "# https://data-dive.com/interactive-maps-made-easy-geoviews\n",
    "plot = (gf.ocean * gf.land * gf.coastline * gf.borders).options(\n",
    "    'Feature', projection=crs.Mercator(), global_extent=True, frame_height=1000,frame_width=1500,\n",
    ")\n",
    "# Convert locations to points and overlay on previous map\n",
    "points = gv.Points(df, kdims=['lon', 'lat'], vdims=['date']).groupby(['date'])\n",
    "plot_points = plot * points.opts(alpha=0.3, color='red', size=4)\n",
    "plot_points.opts(width=500, height=400)\n",
    "# todo hmm, how to set initial zoom? ideally, auto adjust it interactively depending on the day\n",
    "# todo how to add proper keybindings for move/zoom? with ctrl etc"
   ]
  }
 ],
 "metadata": {
  "kernelspec": {
   "display_name": "Python 3",
   "language": "python",
   "name": "python3"
  },
  "language_info": {
   "codemirror_mode": {
    "name": "ipython",
    "version": 3
   },
   "file_extension": ".py",
   "mimetype": "text/x-python",
   "name": "python",
   "nbconvert_exporter": "python",
   "pygments_lexer": "ipython3",
   "version": "3.8.2"
  }
 },
 "nbformat": 4,
 "nbformat_minor": 4
}
